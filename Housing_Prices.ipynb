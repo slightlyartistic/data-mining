{
  "nbformat": 4,
  "nbformat_minor": 0,
  "metadata": {
    "colab": {
      "provenance": [],
      "include_colab_link": true
    },
    "kernelspec": {
      "name": "python3",
      "display_name": "Python 3"
    },
    "language_info": {
      "name": "python"
    }
  },
  "cells": [
    {
      "cell_type": "markdown",
      "metadata": {
        "id": "view-in-github",
        "colab_type": "text"
      },
      "source": [
        "<a href=\"https://colab.research.google.com/github/slightlyartistic/data-mining/blob/main/Housing_Prices.ipynb\" target=\"_parent\"><img src=\"https://colab.research.google.com/assets/colab-badge.svg\" alt=\"Open In Colab\"/></a>"
      ]
    },
    {
      "cell_type": "code",
      "source": [
        "# Import packages needed\n",
        "import pandas as pd\n",
        "import numpy as np\n",
        "import matplotlib.pyplot as plt\n",
        "import statsmodels.api as sm\n",
        "from sklearn import linear_model\n",
        "from sklearn.metrics import mean_squared_error\n",
        "from sklearn.metrics import r2_score"
      ],
      "metadata": {
        "colab": {
          "base_uri": "https://localhost:8080/",
          "height": 295
        },
        "id": "zUxp0IpUYMgd",
        "outputId": "4ce35aa0-511b-4eb2-95af-e19cb94ea34b"
      },
      "execution_count": null,
      "outputs": [
        {
          "output_type": "display_data",
          "data": {
            "text/plain": [
              "<Figure size 432x288 with 1 Axes>"
            ],
            "image/png": "[encoded data removed]"
          },
          "metadata": {
            "needs_background": "light"
          }
        }
      ]
    },
    {
      "cell_type": "code",
      "source": [
        "# Import dataset sheet PB2\n",
        "p2df = pd.read_excel('House_Prices_PRED.xlsx', 'PB2')\n",
        "\n",
        "# Test view\n",
        "p2df.head(10)\n",
        "\n"
      ],
      "metadata": {
        "id": "rRarmTNhekin",
        "colab": {
          "base_uri": "https://localhost:8080/",
          "height": 359
        },
        "outputId": "0ee4dbd6-1aab-4bc9-b3e8-8b728fbbb612"
      },
      "execution_count": null,
      "outputs": [
        {
          "output_type": "execute_result",
          "data": {
            "text/plain": [
              "   Id  SalePrice  SalePrice_MP\n",
              "0   1     208500     207439.62\n",
              "1   2     181500     174829.19\n",
              "2   3     223500     219431.19\n",
              "3   4     140000     167653.84\n",
              "4   5     250000     282350.02\n",
              "5   6     143000     145771.16\n",
              "6   7     307000     276864.60\n",
              "7   8     200000     213099.22\n",
              "8   9     129900     114120.95\n",
              "9  10     118000     130510.38"
            ],
            "text/html": [
              "\n",
              "  <div id=\"df-b3bee7fb-89f8-415d-9ff6-1a5d345da16b\">\n",
              "    <div class=\"colab-df-container\">\n",
              "      <div>\n",
              "<style scoped>\n",
              "    .dataframe tbody tr th:only-of-type {\n",
              "        vertical-align: middle;\n",
              "    }\n",
              "\n",
              "    .dataframe tbody tr th {\n",
              "        vertical-align: top;\n",
              "    }\n",
              "\n",
              "    .dataframe thead th {\n",
              "        text-align: right;\n",
              "    }\n",
              "</style>\n",
              "<table border=\"1\" class=\"dataframe\">\n",
              "  <thead>\n",
              "    <tr style=\"text-align: right;\">\n",
              "      <th></th>\n",
              "      <th>Id</th>\n",
              "      <th>SalePrice</th>\n",
              "      <th>SalePrice_MP</th>\n",
              "    </tr>\n",
              "  </thead>\n",
              "  <tbody>\n",
              "    <tr>\n",
              "      <th>0</th>\n",
              "      <td>1</td>\n",
              "      <td>208500</td>\n",
              "      <td>207439.62</td>\n",
              "    </tr>\n",
              "    <tr>\n",
              "      <th>1</th>\n",
              "      <td>2</td>\n",
              "      <td>181500</td>\n",
              "      <td>174829.19</td>\n",
              "    </tr>\n",
              "    <tr>\n",
              "      <th>2</th>\n",
              "      <td>3</td>\n",
              "      <td>223500</td>\n",
              "      <td>219431.19</td>\n",
              "    </tr>\n",
              "    <tr>\n",
              "      <th>3</th>\n",
              "      <td>4</td>\n",
              "      <td>140000</td>\n",
              "      <td>167653.84</td>\n",
              "    </tr>\n",
              "    <tr>\n",
              "      <th>4</th>\n",
              "      <td>5</td>\n",
              "      <td>250000</td>\n",
              "      <td>282350.02</td>\n",
              "    </tr>\n",
              "    <tr>\n",
              "      <th>5</th>\n",
              "      <td>6</td>\n",
              "      <td>143000</td>\n",
              "      <td>145771.16</td>\n",
              "    </tr>\n",
              "    <tr>\n",
              "      <th>6</th>\n",
              "      <td>7</td>\n",
              "      <td>307000</td>\n",
              "      <td>276864.60</td>\n",
              "    </tr>\n",
              "    <tr>\n",
              "      <th>7</th>\n",
              "      <td>8</td>\n",
              "      <td>200000</td>\n",
              "      <td>213099.22</td>\n",
              "    </tr>\n",
              "    <tr>\n",
              "      <th>8</th>\n",
              "      <td>9</td>\n",
              "      <td>129900</td>\n",
              "      <td>114120.95</td>\n",
              "    </tr>\n",
              "    <tr>\n",
              "      <th>9</th>\n",
              "      <td>10</td>\n",
              "      <td>118000</td>\n",
              "      <td>130510.38</td>\n",
              "    </tr>\n",
              "  </tbody>\n",
              "</table>\n",
              "</div>\n",
              "      <button class=\"colab-df-convert\" onclick=\"convertToInteractive('df-b3bee7fb-89f8-415d-9ff6-1a5d345da16b')\"\n",
              "              title=\"Convert this dataframe to an interactive table.\"\n",
              "              style=\"display:none;\">\n",
              "        \n",
              "  <svg xmlns=\"http://www.w3.org/2000/svg\" height=\"24px\"viewBox=\"0 0 24 24\"\n",
              "       width=\"24px\">\n",
              "    <path d=\"M0 0h24v24H0V0z\" fill=\"none\"/>\n",
              "    <path d=\"M18.56 5.44l.94 2.06.94-2.06 2.06-.94-2.06-.94-.94-2.06-.94 2.06-2.06.94zm-11 1L8.5 8.5l.94-2.06 2.06-.94-2.06-.94L8.5 2.5l-.94 2.06-2.06.94zm10 10l.94 2.06.94-2.06 2.06-.94-2.06-.94-.94-2.06-.94 2.06-2.06.94z\"/><path d=\"M17.41 7.96l-1.37-1.37c-.4-.4-.92-.59-1.43-.59-.52 0-1.04.2-1.43.59L10.3 9.45l-7.72 7.72c-.78.78-.78 2.05 0 2.83L4 21.41c.39.39.9.59 1.41.59.51 0 1.02-.2 1.41-.59l7.78-7.78 2.81-2.81c.8-.78.8-2.07 0-2.86zM5.41 20L4 18.59l7.72-7.72 1.47 1.35L5.41 20z\"/>\n",
              "  </svg>\n",
              "      </button>\n",
              "      \n",
              "  <style>\n",
              "    .colab-df-container {\n",
              "      display:flex;\n",
              "      flex-wrap:wrap;\n",
              "      gap: 12px;\n",
              "    }\n",
              "\n",
              "    .colab-df-convert {\n",
              "      background-color: #E8F0FE;\n",
              "      border: none;\n",
              "      border-radius: 50%;\n",
              "      cursor: pointer;\n",
              "      display: none;\n",
              "      fill: #1967D2;\n",
              "      height: 32px;\n",
              "      padding: 0 0 0 0;\n",
              "      width: 32px;\n",
              "    }\n",
              "\n",
              "    .colab-df-convert:hover {\n",
              "      background-color: #E2EBFA;\n",
              "      box-shadow: 0px 1px 2px rgba(60, 64, 67, 0.3), 0px 1px 3px 1px rgba(60, 64, 67, 0.15);\n",
              "      fill: #174EA6;\n",
              "    }\n",
              "\n",
              "    [theme=dark] .colab-df-convert {\n",
              "      background-color: #3B4455;\n",
              "      fill: #D2E3FC;\n",
              "    }\n",
              "\n",
              "    [theme=dark] .colab-df-convert:hover {\n",
              "      background-color: #434B5C;\n",
              "      box-shadow: 0px 1px 3px 1px rgba(0, 0, 0, 0.15);\n",
              "      filter: drop-shadow(0px 1px 2px rgba(0, 0, 0, 0.3));\n",
              "      fill: #FFFFFF;\n",
              "    }\n",
              "  </style>\n",
              "\n",
              "      <script>\n",
              "        const buttonEl =\n",
              "          document.querySelector('#df-b3bee7fb-89f8-415d-9ff6-1a5d345da16b button.colab-df-convert');\n",
              "        buttonEl.style.display =\n",
              "          google.colab.kernel.accessAllowed ? 'block' : 'none';\n",
              "\n",
              "        async function convertToInteractive(key) {\n",
              "          const element = document.querySelector('#df-b3bee7fb-89f8-415d-9ff6-1a5d345da16b');\n",
              "          const dataTable =\n",
              "            await google.colab.kernel.invokeFunction('convertToInteractive',\n",
              "                                                     [key], {});\n",
              "          if (!dataTable) return;\n",
              "\n",
              "          const docLinkHtml = 'Like what you see? Visit the ' +\n",
              "            '<a target=\"_blank\" href=https://colab.research.google.com/notebooks/data_table.ipynb>data table notebook</a>'\n",
              "            + ' to learn more about interactive tables.';\n",
              "          element.innerHTML = '';\n",
              "          dataTable['output_type'] = 'display_data';\n",
              "          await google.colab.output.renderOutput(dataTable, element);\n",
              "          const docLink = document.createElement('div');\n",
              "          docLink.innerHTML = docLinkHtml;\n",
              "          element.appendChild(docLink);\n",
              "        }\n",
              "      </script>\n",
              "    </div>\n",
              "  </div>\n",
              "  "
            ]
          },
          "metadata": {},
          "execution_count": 3
        }
      ]
    },
    {
      "cell_type": "code",
      "source": [
        "# Define observed value\n",
        "y = p2df['SalePrice_MP']\n",
        "y_true = y = p2df['SalePrice_MP']\n",
        "\n",
        "# Define predicted value\n",
        "x = p2df[['SalePrice']]\n",
        "y_pred = p2df[['SalePrice']]\n",
        "\n",
        "# Add constant to precited value\n",
        "x = sm.add_constant(x)\n",
        "\n",
        "# Fit linear regression model\n",
        "model = sm.OLS(y,x).fit()\n",
        "\n",
        "# Calculate summed square error\n",
        "sse = np.sum((model.fittedvalues - p2df.SalePrice_MP)**2)\n",
        "\n",
        "# Calculate mean squared error\n",
        "mse = mean_squared_error(y_true, y_pred)\n",
        "\n",
        "# Print sse value\n",
        "print('SSE =', sse)\n",
        "\n",
        "# Print mse value\n",
        "print('MSE =', mse)\n",
        "\n"
      ],
      "metadata": {
        "colab": {
          "base_uri": "https://localhost:8080/"
        },
        "id": "kchrgfg-qyP5",
        "outputId": "ba8276e4-00d2-46f6-8710-42607e4e9230"
      },
      "execution_count": null,
      "outputs": [
        {
          "output_type": "stream",
          "name": "stdout",
          "text": [
            "SSE = 790719291920.913\n",
            "MSE = 663427387.3351535\n"
          ]
        },
        {
          "output_type": "stream",
          "name": "stderr",
          "text": [
            "/usr/local/lib/python3.8/dist-packages/statsmodels/tsa/tsatools.py:142: FutureWarning: In a future version of pandas all arguments of concat except for the argument 'objs' will be keyword-only\n",
            "  x = pd.concat(x[::order], 1)\n"
          ]
        }
      ]
    },
    {
      "cell_type": "code",
      "source": [
        "# Calculate R^2 value\n",
        "rSqrd = r2_score(y_true, y_pred)\n",
        "\n",
        "# Print R^2 value\n",
        "print('R^2 =', rSqrd)"
      ],
      "metadata": {
        "colab": {
          "base_uri": "https://localhost:8080/"
        },
        "id": "lhVT5C2f1qpP",
        "outputId": "e5de9023-eab3-4ae3-c3a0-b54fccb885bb"
      },
      "execution_count": null,
      "outputs": [
        {
          "output_type": "stream",
          "name": "stdout",
          "text": [
            "R^2 = 0.8730838225766369\n"
          ]
        }
      ]
    },
    {
      "cell_type": "code",
      "source": [
        "# Reset imported dataset sheet PB2\n",
        "p2df = pd.read_excel('House_Prices_PRED.xlsx', 'PB2')\n",
        "p2df.head(10)"
      ],
      "metadata": {
        "colab": {
          "base_uri": "https://localhost:8080/",
          "height": 359
        },
        "id": "d6Xg9bo0iUs8",
        "outputId": "730f0bc5-ad36-484d-a596-11e2288b6676"
      },
      "execution_count": null,
      "outputs": [
        {
          "output_type": "execute_result",
          "data": {
            "text/plain": [
              "   Id  SalePrice  SalePrice_MP\n",
              "0   1     208500     207439.62\n",
              "1   2     181500     174829.19\n",
              "2   3     223500     219431.19\n",
              "3   4     140000     167653.84\n",
              "4   5     250000     282350.02\n",
              "5   6     143000     145771.16\n",
              "6   7     307000     276864.60\n",
              "7   8     200000     213099.22\n",
              "8   9     129900     114120.95\n",
              "9  10     118000     130510.38"
            ],
            "text/html": [
              "\n",
              "  <div id=\"df-517ba3bb-ae21-487f-9d4d-4b6ca3fd8d55\">\n",
              "    <div class=\"colab-df-container\">\n",
              "      <div>\n",
              "<style scoped>\n",
              "    .dataframe tbody tr th:only-of-type {\n",
              "        vertical-align: middle;\n",
              "    }\n",
              "\n",
              "    .dataframe tbody tr th {\n",
              "        vertical-align: top;\n",
              "    }\n",
              "\n",
              "    .dataframe thead th {\n",
              "        text-align: right;\n",
              "    }\n",
              "</style>\n",
              "<table border=\"1\" class=\"dataframe\">\n",
              "  <thead>\n",
              "    <tr style=\"text-align: right;\">\n",
              "      <th></th>\n",
              "      <th>Id</th>\n",
              "      <th>SalePrice</th>\n",
              "      <th>SalePrice_MP</th>\n",
              "    </tr>\n",
              "  </thead>\n",
              "  <tbody>\n",
              "    <tr>\n",
              "      <th>0</th>\n",
              "      <td>1</td>\n",
              "      <td>208500</td>\n",
              "      <td>207439.62</td>\n",
              "    </tr>\n",
              "    <tr>\n",
              "      <th>1</th>\n",
              "      <td>2</td>\n",
              "      <td>181500</td>\n",
              "      <td>174829.19</td>\n",
              "    </tr>\n",
              "    <tr>\n",
              "      <th>2</th>\n",
              "      <td>3</td>\n",
              "      <td>223500</td>\n",
              "      <td>219431.19</td>\n",
              "    </tr>\n",
              "    <tr>\n",
              "      <th>3</th>\n",
              "      <td>4</td>\n",
              "      <td>140000</td>\n",
              "      <td>167653.84</td>\n",
              "    </tr>\n",
              "    <tr>\n",
              "      <th>4</th>\n",
              "      <td>5</td>\n",
              "      <td>250000</td>\n",
              "      <td>282350.02</td>\n",
              "    </tr>\n",
              "    <tr>\n",
              "      <th>5</th>\n",
              "      <td>6</td>\n",
              "      <td>143000</td>\n",
              "      <td>145771.16</td>\n",
              "    </tr>\n",
              "    <tr>\n",
              "      <th>6</th>\n",
              "      <td>7</td>\n",
              "      <td>307000</td>\n",
              "      <td>276864.60</td>\n",
              "    </tr>\n",
              "    <tr>\n",
              "      <th>7</th>\n",
              "      <td>8</td>\n",
              "      <td>200000</td>\n",
              "      <td>213099.22</td>\n",
              "    </tr>\n",
              "    <tr>\n",
              "      <th>8</th>\n",
              "      <td>9</td>\n",
              "      <td>129900</td>\n",
              "      <td>114120.95</td>\n",
              "    </tr>\n",
              "    <tr>\n",
              "      <th>9</th>\n",
              "      <td>10</td>\n",
              "      <td>118000</td>\n",
              "      <td>130510.38</td>\n",
              "    </tr>\n",
              "  </tbody>\n",
              "</table>\n",
              "</div>\n",
              "      <button class=\"colab-df-convert\" onclick=\"convertToInteractive('df-517ba3bb-ae21-487f-9d4d-4b6ca3fd8d55')\"\n",
              "              title=\"Convert this dataframe to an interactive table.\"\n",
              "              style=\"display:none;\">\n",
              "        \n",
              "  <svg xmlns=\"http://www.w3.org/2000/svg\" height=\"24px\"viewBox=\"0 0 24 24\"\n",
              "       width=\"24px\">\n",
              "    <path d=\"M0 0h24v24H0V0z\" fill=\"none\"/>\n",
              "    <path d=\"M18.56 5.44l.94 2.06.94-2.06 2.06-.94-2.06-.94-.94-2.06-.94 2.06-2.06.94zm-11 1L8.5 8.5l.94-2.06 2.06-.94-2.06-.94L8.5 2.5l-.94 2.06-2.06.94zm10 10l.94 2.06.94-2.06 2.06-.94-2.06-.94-.94-2.06-.94 2.06-2.06.94z\"/><path d=\"M17.41 7.96l-1.37-1.37c-.4-.4-.92-.59-1.43-.59-.52 0-1.04.2-1.43.59L10.3 9.45l-7.72 7.72c-.78.78-.78 2.05 0 2.83L4 21.41c.39.39.9.59 1.41.59.51 0 1.02-.2 1.41-.59l7.78-7.78 2.81-2.81c.8-.78.8-2.07 0-2.86zM5.41 20L4 18.59l7.72-7.72 1.47 1.35L5.41 20z\"/>\n",
              "  </svg>\n",
              "      </button>\n",
              "      \n",
              "  <style>\n",
              "    .colab-df-container {\n",
              "      display:flex;\n",
              "      flex-wrap:wrap;\n",
              "      gap: 12px;\n",
              "    }\n",
              "\n",
              "    .colab-df-convert {\n",
              "      background-color: #E8F0FE;\n",
              "      border: none;\n",
              "      border-radius: 50%;\n",
              "      cursor: pointer;\n",
              "      display: none;\n",
              "      fill: #1967D2;\n",
              "      height: 32px;\n",
              "      padding: 0 0 0 0;\n",
              "      width: 32px;\n",
              "    }\n",
              "\n",
              "    .colab-df-convert:hover {\n",
              "      background-color: #E2EBFA;\n",
              "      box-shadow: 0px 1px 2px rgba(60, 64, 67, 0.3), 0px 1px 3px 1px rgba(60, 64, 67, 0.15);\n",
              "      fill: #174EA6;\n",
              "    }\n",
              "\n",
              "    [theme=dark] .colab-df-convert {\n",
              "      background-color: #3B4455;\n",
              "      fill: #D2E3FC;\n",
              "    }\n",
              "\n",
              "    [theme=dark] .colab-df-convert:hover {\n",
              "      background-color: #434B5C;\n",
              "      box-shadow: 0px 1px 3px 1px rgba(0, 0, 0, 0.15);\n",
              "      filter: drop-shadow(0px 1px 2px rgba(0, 0, 0, 0.3));\n",
              "      fill: #FFFFFF;\n",
              "    }\n",
              "  </style>\n",
              "\n",
              "      <script>\n",
              "        const buttonEl =\n",
              "          document.querySelector('#df-517ba3bb-ae21-487f-9d4d-4b6ca3fd8d55 button.colab-df-convert');\n",
              "        buttonEl.style.display =\n",
              "          google.colab.kernel.accessAllowed ? 'block' : 'none';\n",
              "\n",
              "        async function convertToInteractive(key) {\n",
              "          const element = document.querySelector('#df-517ba3bb-ae21-487f-9d4d-4b6ca3fd8d55');\n",
              "          const dataTable =\n",
              "            await google.colab.kernel.invokeFunction('convertToInteractive',\n",
              "                                                     [key], {});\n",
              "          if (!dataTable) return;\n",
              "\n",
              "          const docLinkHtml = 'Like what you see? Visit the ' +\n",
              "            '<a target=\"_blank\" href=https://colab.research.google.com/notebooks/data_table.ipynb>data table notebook</a>'\n",
              "            + ' to learn more about interactive tables.';\n",
              "          element.innerHTML = '';\n",
              "          dataTable['output_type'] = 'display_data';\n",
              "          await google.colab.output.renderOutput(dataTable, element);\n",
              "          const docLink = document.createElement('div');\n",
              "          docLink.innerHTML = docLinkHtml;\n",
              "          element.appendChild(docLink);\n",
              "        }\n",
              "      </script>\n",
              "    </div>\n",
              "  </div>\n",
              "  "
            ]
          },
          "metadata": {},
          "execution_count": 6
        }
      ]
    },
    {
      "cell_type": "code",
      "source": [
        "# Calculate the sum squared error\n",
        "error = (p2df['SalePrice'] - p2df['SalePrice_MP']) ** 2\n",
        "sse = np.sum(error)\n",
        "\n",
        "# Calculate the average squared error\n",
        "if len(p2df) != 0:\n",
        "    ase = sse / len(p2df)\n",
        "else:\n",
        "    ase = 0\n",
        "\n",
        "# Print the results\n",
        "print(\"Sum Squared Error:\", sse)\n",
        "print(\"Average Squared Error:\", ase)"
      ],
      "metadata": {
        "colab": {
          "base_uri": "https://localhost:8080/"
        },
        "id": "NV4O55XWjGAK",
        "outputId": "ae945047-77f7-4b37-f223-64fbbc8879fd"
      },
      "execution_count": null,
      "outputs": [
        {
          "output_type": "stream",
          "name": "stdout",
          "text": [
            "Sum Squared Error: 968603985509.3241\n",
            "Average Squared Error: 663427387.3351535\n"
          ]
        }
      ]
    },
    {
      "cell_type": "code",
      "source": [
        "# Calculate R^2 value\n",
        "rSqrd = r2_score(y_true, y_pred)\n",
        "\n",
        "# Print R^2 value\n",
        "print('R^2 =', rSqrd)"
      ],
      "metadata": {
        "id": "MwDiyDE0oIzZ"
      },
      "execution_count": null,
      "outputs": []
    },
    {
      "cell_type": "code",
      "source": [
        "# Calculate the absolute percentage error\n",
        "error = np.abs(p2df['SalePrice'] - p2df['SalePrice_MP']) / p2df['SalePrice']\n",
        "\n",
        "# Calculate the mean absolute percentage error\n",
        "mape = 100 * error.mean()\n",
        "\n",
        "# Print the result\n",
        "print(\"Mean Absolute Percentage Error:\", mape, \"%\")"
      ],
      "metadata": {
        "colab": {
          "base_uri": "https://localhost:8080/"
        },
        "id": "tepK6RXsjPMy",
        "outputId": "e9c9fa1c-e844-4818-c220-85f393ac6c28"
      },
      "execution_count": null,
      "outputs": [
        {
          "output_type": "stream",
          "name": "stdout",
          "text": [
            "Mean Absolute Percentage Error: 8.14515526875231 %\n"
          ]
        }
      ]
    },
    {
      "cell_type": "code",
      "source": [
        "# Calculate the absolute error\n",
        "aerror = np.abs(p2df['SalePrice'] - p2df['SalePrice_MP'])\n",
        "\n",
        "# Calculate the mean absolute error\n",
        "mae = aerror.mean()\n",
        "\n",
        "# Print the result\n",
        "print(\"Mean Absolute Error:\", mae)"
      ],
      "metadata": {
        "colab": {
          "base_uri": "https://localhost:8080/"
        },
        "id": "RvVbH_ndjt_j",
        "outputId": "a8ac8aef-453f-4ac1-8a0f-64ff1b0c202a"
      },
      "execution_count": null,
      "outputs": [
        {
          "output_type": "stream",
          "name": "stdout",
          "text": [
            "Mean Absolute Error: 14368.025828767124\n"
          ]
        }
      ]
    },
    {
      "cell_type": "code",
      "source": [
        "# Using interp1d to create residual plot\n",
        "import seaborn as sns \n",
        "from scipy.interpolate import interp1d\n",
        "\n",
        "\n",
        "# Calculate the residuals\n",
        "p2df['residuals'] = p2df['SalePrice'] - p2df['SalePrice_MP']\n",
        "\n",
        "# Plot the residuals\n",
        "sns.scatterplot(x='SalePrice', y='residuals', data=p2df)\n",
        "\n",
        "\n",
        "# Sort the data and drop duplicates\n",
        "p2df = p2df.sort_values('SalePrice').drop_duplicates('SalePrice')\n",
        "\n",
        "# Fit a loess line to the residuals\n",
        "x = p2df['SalePrice'].values\n",
        "y = p2df['residuals'].values\n",
        "loess = interp1d(x, y, kind='cubic')\n",
        "x_fit = np.linspace(x.min(), x.max(), 1000)\n",
        "y_fit = loess(x_fit)\n",
        "plt.plot(x_fit, y_fit, 'r')\n",
        "\n",
        "# Add labels and title to the plot\n",
        "plt.xlabel('SalePrice')\n",
        "plt.ylabel('Residuals')\n",
        "plt.title('Residual Plot with a Loess Line')\n",
        "\n",
        "# Show the plot\n",
        "plt.show()"
      ],
      "metadata": {
        "colab": {
          "base_uri": "https://localhost:8080/",
          "height": 295
        },
        "id": "ITAK0Tdrj7t3",
        "outputId": "6a146bc7-5bb3-4e8c-ce6a-5909fe55f711"
      },
      "execution_count": null,
      "outputs": [
        {
          "output_type": "display_data",
          "data": {
            "text/plain": [
              "<Figure size 432x288 with 1 Axes>"
            ],
            "image/png": "[encoded data removed]"
          },
          "metadata": {
            "needs_background": "light"
          }
        }
      ]
    },
    {
      "cell_type": "code",
      "source": [
        "# Get residuals\n",
        "X = p2df['SalePrice']\n",
        "y = p2df['SalePrice_MP']\n",
        "p2df['Residuals'] = y - X\n",
        "p2df['Residuals']\n",
        "\n",
        "sns.residplot(data = p2df, x = 'SalePrice', y = 'Residuals', lowess = True, line_kws={'color': 'red'})\n",
        "plt.title('SalePrice against Residuals')\n",
        "plt.xlabel('SalePrice')\n",
        "plt.ylabel('Residuals')\n",
        "plt.show()"
      ],
      "metadata": {
        "colab": {
          "base_uri": "https://localhost:8080/",
          "height": 295
        },
        "id": "JANAR7Tlmy3C",
        "outputId": "b3c00f64-fabc-44ce-d8a2-fcd5d8f1754c"
      },
      "execution_count": null,
      "outputs": [
        {
          "output_type": "display_data",
          "data": {
            "text/plain": [
              "<Figure size 432x288 with 1 Axes>"
            ],
            "image/png": "[encoded data removed]"
          },
          "metadata": {
            "needs_background": "light"
          }
        }
      ]
    },
    {
      "cell_type": "code",
      "source": [
        "# Import sheet PB3 from dataset\n",
        "df = pd.read_excel('House_Prices_PRED.xlsx', 'PB3')\n",
        "\n",
        "# Read dataset\n",
        "df"
      ],
      "metadata": {
        "id": "thNb8k1WemAz",
        "colab": {
          "base_uri": "https://localhost:8080/",
          "height": 468
        },
        "outputId": "80800c8f-2540-4874-cc45-823d19c33b3a"
      },
      "execution_count": null,
      "outputs": [
        {
          "output_type": "execute_result",
          "data": {
            "text/plain": [
              "        Id  SalePrice  SalePrice_MP MSZoning FireplaceQu  GAR  BATH  Age   TSF\n",
              "0        1     208500     207439.62       RL         NaN  548   2.5    5  1710\n",
              "1        2     181500     174829.19       RL          TA  460   2.0   31  1262\n",
              "2        3     223500     219431.19       RL          TA  608   2.5    7  1786\n",
              "3        4     140000     167653.84       RL          Gd  642   1.0   91  1717\n",
              "4        5     250000     282350.02       RL          TA  836   2.5    8  2198\n",
              "...    ...        ...           ...      ...         ...  ...   ...  ...   ...\n",
              "1455  1456     175000     171836.32       RL          TA  460   2.5    8  1647\n",
              "1456  1457     210000     207697.04       RL          TA  500   2.0   32  2073\n",
              "1457  1458     266500     253549.21       RL          Gd  252   2.0   69  2340\n",
              "1458  1459     142125     143850.93       RL         NaN  240   1.0   60  1078\n",
              "1459  1460     147500     152684.65       RL         NaN  276   1.5   43  1256\n",
              "\n",
              "[1460 rows x 9 columns]"
            ],
            "text/html": [
              "\n",
              "  <div id=\"df-d516802e-8685-4f0a-a9d5-f5090c0311c9\">\n",
              "    <div class=\"colab-df-container\">\n",
              "      <div>\n",
              "<style scoped>\n",
              "    .dataframe tbody tr th:only-of-type {\n",
              "        vertical-align: middle;\n",
              "    }\n",
              "\n",
              "    .dataframe tbody tr th {\n",
              "        vertical-align: top;\n",
              "    }\n",
              "\n",
              "    .dataframe thead th {\n",
              "        text-align: right;\n",
              "    }\n",
              "</style>\n",
              "<table border=\"1\" class=\"dataframe\">\n",
              "  <thead>\n",
              "    <tr style=\"text-align: right;\">\n",
              "      <th></th>\n",
              "      <th>Id</th>\n",
              "      <th>SalePrice</th>\n",
              "      <th>SalePrice_MP</th>\n",
              "      <th>MSZoning</th>\n",
              "      <th>FireplaceQu</th>\n",
              "      <th>GAR</th>\n",
              "      <th>BATH</th>\n",
              "      <th>Age</th>\n",
              "      <th>TSF</th>\n",
              "    </tr>\n",
              "  </thead>\n",
              "  <tbody>\n",
              "    <tr>\n",
              "      <th>0</th>\n",
              "      <td>1</td>\n",
              "      <td>208500</td>\n",
              "      <td>207439.62</td>\n",
              "      <td>RL</td>\n",
              "      <td>NaN</td>\n",
              "      <td>548</td>\n",
              "      <td>2.5</td>\n",
              "      <td>5</td>\n",
              "      <td>1710</td>\n",
              "    </tr>\n",
              "    <tr>\n",
              "      <th>1</th>\n",
              "      <td>2</td>\n",
              "      <td>181500</td>\n",
              "      <td>174829.19</td>\n",
              "      <td>RL</td>\n",
              "      <td>TA</td>\n",
              "      <td>460</td>\n",
              "      <td>2.0</td>\n",
              "      <td>31</td>\n",
              "      <td>1262</td>\n",
              "    </tr>\n",
              "    <tr>\n",
              "      <th>2</th>\n",
              "      <td>3</td>\n",
              "      <td>223500</td>\n",
              "      <td>219431.19</td>\n",
              "      <td>RL</td>\n",
              "      <td>TA</td>\n",
              "      <td>608</td>\n",
              "      <td>2.5</td>\n",
              "      <td>7</td>\n",
              "      <td>1786</td>\n",
              "    </tr>\n",
              "    <tr>\n",
              "      <th>3</th>\n",
              "      <td>4</td>\n",
              "      <td>140000</td>\n",
              "      <td>167653.84</td>\n",
              "      <td>RL</td>\n",
              "      <td>Gd</td>\n",
              "      <td>642</td>\n",
              "      <td>1.0</td>\n",
              "      <td>91</td>\n",
              "      <td>1717</td>\n",
              "    </tr>\n",
              "    <tr>\n",
              "      <th>4</th>\n",
              "      <td>5</td>\n",
              "      <td>250000</td>\n",
              "      <td>282350.02</td>\n",
              "      <td>RL</td>\n",
              "      <td>TA</td>\n",
              "      <td>836</td>\n",
              "      <td>2.5</td>\n",
              "      <td>8</td>\n",
              "      <td>2198</td>\n",
              "    </tr>\n",
              "    <tr>\n",
              "      <th>...</th>\n",
              "      <td>...</td>\n",
              "      <td>...</td>\n",
              "      <td>...</td>\n",
              "      <td>...</td>\n",
              "      <td>...</td>\n",
              "      <td>...</td>\n",
              "      <td>...</td>\n",
              "      <td>...</td>\n",
              "      <td>...</td>\n",
              "    </tr>\n",
              "    <tr>\n",
              "      <th>1455</th>\n",
              "      <td>1456</td>\n",
              "      <td>175000</td>\n",
              "      <td>171836.32</td>\n",
              "      <td>RL</td>\n",
              "      <td>TA</td>\n",
              "      <td>460</td>\n",
              "      <td>2.5</td>\n",
              "      <td>8</td>\n",
              "      <td>1647</td>\n",
              "    </tr>\n",
              "    <tr>\n",
              "      <th>1456</th>\n",
              "      <td>1457</td>\n",
              "      <td>210000</td>\n",
              "      <td>207697.04</td>\n",
              "      <td>RL</td>\n",
              "      <td>TA</td>\n",
              "      <td>500</td>\n",
              "      <td>2.0</td>\n",
              "      <td>32</td>\n",
              "      <td>2073</td>\n",
              "    </tr>\n",
              "    <tr>\n",
              "      <th>1457</th>\n",
              "      <td>1458</td>\n",
              "      <td>266500</td>\n",
              "      <td>253549.21</td>\n",
              "      <td>RL</td>\n",
              "      <td>Gd</td>\n",
              "      <td>252</td>\n",
              "      <td>2.0</td>\n",
              "      <td>69</td>\n",
              "      <td>2340</td>\n",
              "    </tr>\n",
              "    <tr>\n",
              "      <th>1458</th>\n",
              "      <td>1459</td>\n",
              "      <td>142125</td>\n",
              "      <td>143850.93</td>\n",
              "      <td>RL</td>\n",
              "      <td>NaN</td>\n",
              "      <td>240</td>\n",
              "      <td>1.0</td>\n",
              "      <td>60</td>\n",
              "      <td>1078</td>\n",
              "    </tr>\n",
              "    <tr>\n",
              "      <th>1459</th>\n",
              "      <td>1460</td>\n",
              "      <td>147500</td>\n",
              "      <td>152684.65</td>\n",
              "      <td>RL</td>\n",
              "      <td>NaN</td>\n",
              "      <td>276</td>\n",
              "      <td>1.5</td>\n",
              "      <td>43</td>\n",
              "      <td>1256</td>\n",
              "    </tr>\n",
              "  </tbody>\n",
              "</table>\n",
              "<p>1460 rows × 9 columns</p>\n",
              "</div>\n",
              "      <button class=\"colab-df-convert\" onclick=\"convertToInteractive('df-d516802e-8685-4f0a-a9d5-f5090c0311c9')\"\n",
              "              title=\"Convert this dataframe to an interactive table.\"\n",
              "              style=\"display:none;\">\n",
              "        \n",
              "  <svg xmlns=\"http://www.w3.org/2000/svg\" height=\"24px\"viewBox=\"0 0 24 24\"\n",
              "       width=\"24px\">\n",
              "    <path d=\"M0 0h24v24H0V0z\" fill=\"none\"/>\n",
              "    <path d=\"M18.56 5.44l.94 2.06.94-2.06 2.06-.94-2.06-.94-.94-2.06-.94 2.06-2.06.94zm-11 1L8.5 8.5l.94-2.06 2.06-.94-2.06-.94L8.5 2.5l-.94 2.06-2.06.94zm10 10l.94 2.06.94-2.06 2.06-.94-2.06-.94-.94-2.06-.94 2.06-2.06.94z\"/><path d=\"M17.41 7.96l-1.37-1.37c-.4-.4-.92-.59-1.43-.59-.52 0-1.04.2-1.43.59L10.3 9.45l-7.72 7.72c-.78.78-.78 2.05 0 2.83L4 21.41c.39.39.9.59 1.41.59.51 0 1.02-.2 1.41-.59l7.78-7.78 2.81-2.81c.8-.78.8-2.07 0-2.86zM5.41 20L4 18.59l7.72-7.72 1.47 1.35L5.41 20z\"/>\n",
              "  </svg>\n",
              "      </button>\n",
              "      \n",
              "  <style>\n",
              "    .colab-df-container {\n",
              "      display:flex;\n",
              "      flex-wrap:wrap;\n",
              "      gap: 12px;\n",
              "    }\n",
              "\n",
              "    .colab-df-convert {\n",
              "      background-color: #E8F0FE;\n",
              "      border: none;\n",
              "      border-radius: 50%;\n",
              "      cursor: pointer;\n",
              "      display: none;\n",
              "      fill: #1967D2;\n",
              "      height: 32px;\n",
              "      padding: 0 0 0 0;\n",
              "      width: 32px;\n",
              "    }\n",
              "\n",
              "    .colab-df-convert:hover {\n",
              "      background-color: #E2EBFA;\n",
              "      box-shadow: 0px 1px 2px rgba(60, 64, 67, 0.3), 0px 1px 3px 1px rgba(60, 64, 67, 0.15);\n",
              "      fill: #174EA6;\n",
              "    }\n",
              "\n",
              "    [theme=dark] .colab-df-convert {\n",
              "      background-color: #3B4455;\n",
              "      fill: #D2E3FC;\n",
              "    }\n",
              "\n",
              "    [theme=dark] .colab-df-convert:hover {\n",
              "      background-color: #434B5C;\n",
              "      box-shadow: 0px 1px 3px 1px rgba(0, 0, 0, 0.15);\n",
              "      filter: drop-shadow(0px 1px 2px rgba(0, 0, 0, 0.3));\n",
              "      fill: #FFFFFF;\n",
              "    }\n",
              "  </style>\n",
              "\n",
              "      <script>\n",
              "        const buttonEl =\n",
              "          document.querySelector('#df-d516802e-8685-4f0a-a9d5-f5090c0311c9 button.colab-df-convert');\n",
              "        buttonEl.style.display =\n",
              "          google.colab.kernel.accessAllowed ? 'block' : 'none';\n",
              "\n",
              "        async function convertToInteractive(key) {\n",
              "          const element = document.querySelector('#df-d516802e-8685-4f0a-a9d5-f5090c0311c9');\n",
              "          const dataTable =\n",
              "            await google.colab.kernel.invokeFunction('convertToInteractive',\n",
              "                                                     [key], {});\n",
              "          if (!dataTable) return;\n",
              "\n",
              "          const docLinkHtml = 'Like what you see? Visit the ' +\n",
              "            '<a target=\"_blank\" href=https://colab.research.google.com/notebooks/data_table.ipynb>data table notebook</a>'\n",
              "            + ' to learn more about interactive tables.';\n",
              "          element.innerHTML = '';\n",
              "          dataTable['output_type'] = 'display_data';\n",
              "          await google.colab.output.renderOutput(dataTable, element);\n",
              "          const docLink = document.createElement('div');\n",
              "          docLink.innerHTML = docLinkHtml;\n",
              "          element.appendChild(docLink);\n",
              "        }\n",
              "      </script>\n",
              "    </div>\n",
              "  </div>\n",
              "  "
            ]
          },
          "metadata": {},
          "execution_count": 6
        }
      ]
    },
    {
      "cell_type": "code",
      "source": [
        "# Get residuals\n",
        "X = df['SalePrice']\n",
        "y = df['SalePrice_MP']\n",
        "df['Residuals'] = y - X\n",
        "df['Residuals']"
      ],
      "metadata": {
        "colab": {
          "base_uri": "https://localhost:8080/"
        },
        "id": "z9bKsg6KfovD",
        "outputId": "144f2651-3dad-4b46-b959-0f45a0438bf6"
      },
      "execution_count": null,
      "outputs": [
        {
          "output_type": "execute_result",
          "data": {
            "text/plain": [
              "0       -1060.38\n",
              "1       -6670.81\n",
              "2       -4068.81\n",
              "3       27653.84\n",
              "4       32350.02\n",
              "          ...   \n",
              "1455    -3163.68\n",
              "1456    -2302.96\n",
              "1457   -12950.79\n",
              "1458     1725.93\n",
              "1459     5184.65\n",
              "Name: Residuals, Length: 1460, dtype: float64"
            ]
          },
          "metadata": {},
          "execution_count": 7
        }
      ]
    },
    {
      "cell_type": "code",
      "source": [
        "# Replace categorical variables with numbers to make plotting possible\n",
        "df['MSZoning'].replace(['C', 'FV', 'RH', 'RL', 'RM'], [0, 1, 2, 3, 4], inplace = True)\n",
        "\n",
        "# Plot residual plot\n",
        "sns.residplot(data = df, x = 'MSZoning', y = 'Residuals', lowess = True, line_kws={'color': 'red'})\n",
        "plt.title('MSZoning against Sale Price Residuals')\n",
        "plt.xlabel('MSZoning')\n",
        "plt.ylabel('Sale Price Residuals')\n",
        "plt.show()"
      ],
      "metadata": {
        "colab": {
          "base_uri": "https://localhost:8080/",
          "height": 350
        },
        "id": "_5UqIxFKpIO0",
        "outputId": "3fce4f94-0406-48bd-c43a-9e08699979cf"
      },
      "execution_count": null,
      "outputs": [
        {
          "output_type": "stream",
          "name": "stderr",
          "text": [
            "/usr/local/lib/python3.8/dist-packages/statsmodels/nonparametric/smoothers_lowess.py:214: RuntimeWarning: invalid value encountered in true_divide\n",
            "  res, _ = _lowess(y, x, x, np.ones_like(x),\n"
          ]
        },
        {
          "output_type": "display_data",
          "data": {
            "text/plain": [
              "<Figure size 432x288 with 1 Axes>"
            ],
            "image/png": "[encoded data removed]"
          },
          "metadata": {
            "needs_background": "light"
          }
        }
      ]
    },
    {
      "cell_type": "code",
      "source": [
        "# Plot residual plot\n",
        "sns.residplot(data = df, x = 'Age', y = 'Residuals', lowess = True, line_kws={'color': 'red'})\n",
        "plt.title('Age against Sale Price Residuals')\n",
        "plt.xlabel('Age')\n",
        "plt.ylabel('Sale Price Residuals')\n",
        "plt.show()"
      ],
      "metadata": {
        "colab": {
          "base_uri": "https://localhost:8080/",
          "height": 295
        },
        "id": "9WCcI4SArpZw",
        "outputId": "148b9ea6-1894-429c-fa87-81266af67838"
      },
      "execution_count": null,
      "outputs": [
        {
          "output_type": "display_data",
          "data": {
            "text/plain": [
              "<Figure size 432x288 with 1 Axes>"
            ],
            "image/png": "[encoded data removed]"
          },
          "metadata": {
            "needs_background": "light"
          }
        }
      ]
    }
  ]
}